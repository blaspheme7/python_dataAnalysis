{
  "nbformat": 4,
  "nbformat_minor": 0,
  "metadata": {
    "colab": {
      "name": "판다스시작함.ipynb",
      "provenance": [],
      "collapsed_sections": [],
      "authorship_tag": "ABX9TyMJ8d/QH4/BrUfLa31B0Hr7",
      "include_colab_link": true
    },
    "kernelspec": {
      "name": "python3",
      "display_name": "Python 3"
    }
  },
  "cells": [
    {
      "cell_type": "markdown",
      "metadata": {
        "id": "view-in-github",
        "colab_type": "text"
      },
      "source": [
        "<a href=\"https://colab.research.google.com/github/blaspheme7/python_dataAnalysis/blob/master/%ED%8C%90%EB%8B%A4%EC%8A%A4%EC%8B%9C%EC%9E%91%ED%95%A8.ipynb\" target=\"_parent\"><img src=\"https://colab.research.google.com/assets/colab-badge.svg\" alt=\"Open In Colab\"/></a>"
      ]
    },
    {
      "cell_type": "code",
      "metadata": {
        "id": "5q0Bo6Q4WADl",
        "colab_type": "code",
        "colab": {
          "base_uri": "https://localhost:8080/",
          "height": 559
        },
        "outputId": "5d2e45c5-c157-4a4d-ac6b-848f6ffcb19e"
      },
      "source": [
        "import pandas as pd\n",
        "import numpy as np\n",
        "\n",
        "# pandas.Series 데이터 타입\n",
        "# dictionary와 비슷함\n",
        "\n",
        "se=pd.Series([4,7,5,-3])\n",
        "print(se)\n",
        "\n",
        "#loc[] : 레이블 기반 인덱스\n",
        "#iloc[] : 정수 포지션 기반 인덱함\n",
        "\n",
        "s=pd.Series(data=[1,3,5,7,9],\n",
        "            index=['a','b','c','d','e'])\n",
        "print(s)\n",
        "print(s.loc['b'])\n",
        "\n",
        "data={'city':['서울','대전','대구','부산'],\n",
        "      'year':[2018,2019,2020,2021],\n",
        "      'pop':[1.5,1.7,1.8,1.4]}\n",
        "\n",
        "df=pd.DataFrame(data, index=['a','b','c','d'])\n",
        "print('shape = ',df.shape)\n",
        "print(df)\n",
        "\n",
        "df1=pd.DataFrame(data=np.random.randn(3,3),\n",
        "                 columns=['a','b','c'])\n",
        "\n",
        "print(df1)\n",
        "df1>0"
      ],
      "execution_count": 15,
      "outputs": [
        {
          "output_type": "stream",
          "text": [
            "0    4\n",
            "1    7\n",
            "2    5\n",
            "3   -3\n",
            "dtype: int64\n",
            "a    1\n",
            "b    3\n",
            "c    5\n",
            "d    7\n",
            "e    9\n",
            "dtype: int64\n",
            "3\n",
            "shape =  (4, 3)\n",
            "  city  year  pop\n",
            "a   서울  2018  1.5\n",
            "b   대전  2019  1.7\n",
            "c   대구  2020  1.8\n",
            "d   부산  2021  1.4\n",
            "          a         b         c\n",
            "0  0.949794 -1.093737  1.143452\n",
            "1 -0.452566 -0.393206 -0.001871\n",
            "2  1.311061 -0.642391 -0.568989\n"
          ],
          "name": "stdout"
        },
        {
          "output_type": "execute_result",
          "data": {
            "text/html": [
              "<div>\n",
              "<style scoped>\n",
              "    .dataframe tbody tr th:only-of-type {\n",
              "        vertical-align: middle;\n",
              "    }\n",
              "\n",
              "    .dataframe tbody tr th {\n",
              "        vertical-align: top;\n",
              "    }\n",
              "\n",
              "    .dataframe thead th {\n",
              "        text-align: right;\n",
              "    }\n",
              "</style>\n",
              "<table border=\"1\" class=\"dataframe\">\n",
              "  <thead>\n",
              "    <tr style=\"text-align: right;\">\n",
              "      <th></th>\n",
              "      <th>a</th>\n",
              "      <th>b</th>\n",
              "      <th>c</th>\n",
              "    </tr>\n",
              "  </thead>\n",
              "  <tbody>\n",
              "    <tr>\n",
              "      <th>0</th>\n",
              "      <td>True</td>\n",
              "      <td>False</td>\n",
              "      <td>True</td>\n",
              "    </tr>\n",
              "    <tr>\n",
              "      <th>1</th>\n",
              "      <td>False</td>\n",
              "      <td>False</td>\n",
              "      <td>False</td>\n",
              "    </tr>\n",
              "    <tr>\n",
              "      <th>2</th>\n",
              "      <td>True</td>\n",
              "      <td>False</td>\n",
              "      <td>False</td>\n",
              "    </tr>\n",
              "  </tbody>\n",
              "</table>\n",
              "</div>"
            ],
            "text/plain": [
              "       a      b      c\n",
              "0   True  False   True\n",
              "1  False  False  False\n",
              "2   True  False  False"
            ]
          },
          "metadata": {
            "tags": []
          },
          "execution_count": 15
        }
      ]
    }
  ]
}
{
  "nbformat": 4,
  "nbformat_minor": 0,
  "metadata": {
    "colab": {
      "name": "백반먹고싶다.ipynb",
      "provenance": [],
      "collapsed_sections": [],
      "authorship_tag": "ABX9TyMPkEiACptLUxtIGk9WA6a+",
      "include_colab_link": true
    },
    "kernelspec": {
      "name": "python3",
      "display_name": "Python 3"
    }
  },
  "cells": [
    {
      "cell_type": "markdown",
      "metadata": {
        "id": "view-in-github",
        "colab_type": "text"
      },
      "source": [
        "<a href=\"https://colab.research.google.com/github/blaspheme7/python_dataAnalysis/blob/master/%EB%B0%B1%EB%B0%98%EB%A8%B9%EA%B3%A0%EC%8B%B6%EB%8B%A4.ipynb\" target=\"_parent\"><img src=\"https://colab.research.google.com/assets/colab-badge.svg\" alt=\"Open In Colab\"/></a>"
      ]
    },
    {
      "cell_type": "code",
      "metadata": {
        "id": "FkCdCjn1xJty",
        "colab_type": "code",
        "colab": {
          "base_uri": "https://localhost:8080/",
          "height": 187
        },
        "outputId": "4d0b6853-6667-4c31-a8c1-54d26b15b5fb"
      },
      "source": [
        "# 2020.04.11\n",
        "# while문 - 그냥반복문\n",
        "\n",
        "i=1\n",
        "s=0\n",
        "while s<100:\n",
        "  s+=i\n",
        "  i+=1\n",
        "print(s,i-1)\n",
        "\n",
        "\n",
        "# 패키지 임포트\n",
        "import random\n",
        "# random.random() 0<x<1 랜덤값 생성\n",
        "# random.randint(x,y) x<=a<=y 랜덤값 생성\n",
        "print(random.randint(1,10))\n",
        "\n",
        "\n",
        "scores=[]\n",
        "for i in range(10):\n",
        "  scores.append(random.randint(0,10))\n",
        "\n",
        "print(scores)\n",
        "\n",
        "\n",
        "\n",
        "# List Comprehension\n",
        "# 리스트 생성 제어문? 비슷한거\n",
        "\n",
        "arr=[n for n in range(10)]\n",
        "print(arr)\n",
        "\n",
        "cities=['seoul','jeju','dokdo','busan']\n",
        "cities_upper=[city.upper() for city in cities if len(city)>4]\n",
        "print(cities_upper)\n",
        "\n",
        "# dictionary comprehension\n",
        "# zip() \n",
        "dict1={city:len(city) for city in cities}\n",
        "print(dict1)\n",
        "\n",
        "numb=[1,2,3,11,22,30]\n",
        "names=['a','b','c','d','e','f']\n",
        "products={num:name for num,name in zip(numb,names)}\n",
        "print(products)\n",
        "\n",
        "# comprehension 시 for문 및 if문 중첩 가능\n",
        "\n",
        "dice=[(i,j) for i in range(1,7) for j in range(1,7) if i%2==0 if j%2==0]\n",
        "print(dice)\n",
        "\n",
        "\n",
        "# 함수정의\n",
        "# return 값을 두개 이상 할수이씀\n",
        "def abc(x,y):\n",
        "  return x+y, x*y\n",
        "s,p=abc(2,3)\n",
        "print(s,p)\n",
        "\n",
        "# 1)positional argument - 순서대식\n",
        "# 2)keyword argument - param:value 방식"
      ],
      "execution_count": 24,
      "outputs": [
        {
          "output_type": "stream",
          "text": [
            "105 14\n",
            "2\n",
            "[9, 9, 3, 9, 10, 1, 2, 2, 6, 7]\n",
            "[0, 1, 2, 3, 4, 5, 6, 7, 8, 9]\n",
            "['SEOUL', 'DOKDO', 'BUSAN']\n",
            "{'seoul': 5, 'jeju': 4, 'dokdo': 5, 'busan': 5}\n",
            "{1: 'a', 2: 'b', 3: 'c', 11: 'd', 22: 'e', 30: 'f'}\n",
            "[(2, 2), (2, 4), (2, 6), (4, 2), (4, 4), (4, 6), (6, 2), (6, 4), (6, 6)]\n",
            "5 6\n"
          ],
          "name": "stdout"
        }
      ]
    }
  ]
}
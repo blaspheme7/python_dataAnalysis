{
  "nbformat": 4,
  "nbformat_minor": 0,
  "metadata": {
    "colab": {
      "name": "오늘점심뭐먹지.ipynb",
      "provenance": [],
      "authorship_tag": "ABX9TyMvKWCapb/vy5Slb+Gun3SN",
      "include_colab_link": true
    },
    "kernelspec": {
      "name": "python3",
      "display_name": "Python 3"
    }
  },
  "cells": [
    {
      "cell_type": "markdown",
      "metadata": {
        "id": "view-in-github",
        "colab_type": "text"
      },
      "source": [
        "<a href=\"https://colab.research.google.com/github/blaspheme7/python_dataAnalysis/blob/master/%EC%98%A4%EB%8A%98%EC%A0%90%EC%8B%AC%EB%AD%90%EB%A8%B9%EC%A7%80.ipynb\" target=\"_parent\"><img src=\"https://colab.research.google.com/assets/colab-badge.svg\" alt=\"Open In Colab\"/></a>"
      ]
    },
    {
      "cell_type": "code",
      "metadata": {
        "id": "fnG0ErbB05td",
        "colab_type": "code",
        "outputId": "839c32fa-94f0-43ce-8c67-f39e1592e4dd",
        "colab": {
          "base_uri": "https://localhost:8080/",
          "height": 111
        }
      },
      "source": [
        "print(3+4)\n",
        "# joosuck\n",
        "# 여러줄주석은 어떤거임?\n",
        "\n",
        "a=7\n",
        "b=3\n",
        "x='hello'\n",
        "y='world'\n",
        "김나박이=\"김ㅁㄴㅇㄻㄴㅇㄹ박이\"\n",
        "print(a+b)\n",
        "print(x+' '+y)\n",
        "print(김나박이)\n",
        "\n",
        "# 연산자 (== != 등등\n",
        "# list (=arr)\n",
        "\n",
        "arr=[1,2,3]\n",
        "arr[0]"
      ],
      "execution_count": 0,
      "outputs": [
        {
          "output_type": "stream",
          "text": [
            "7\n",
            "10\n",
            "hello world\n",
            "김ㅁㄴㅇㄻㄴㅇㄹ박이\n"
          ],
          "name": "stdout"
        },
        {
          "output_type": "execute_result",
          "data": {
            "text/plain": [
              "1"
            ]
          },
          "metadata": {
            "tags": []
          },
          "execution_count": 12
        }
      ]
    }
  ]
}
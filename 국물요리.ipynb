{
  "nbformat": 4,
  "nbformat_minor": 0,
  "metadata": {
    "colab": {
      "name": "국물요리.ipynb",
      "provenance": [],
      "collapsed_sections": [],
      "authorship_tag": "ABX9TyNWG8x6N5QEqogdudLaWNOc",
      "include_colab_link": true
    },
    "kernelspec": {
      "name": "python3",
      "display_name": "Python 3"
    }
  },
  "cells": [
    {
      "cell_type": "markdown",
      "metadata": {
        "id": "view-in-github",
        "colab_type": "text"
      },
      "source": [
        "<a href=\"https://colab.research.google.com/github/blaspheme7/python_dataAnalysis/blob/master/%EA%B5%AD%EB%AC%BC%EC%9A%94%EB%A6%AC.ipynb\" target=\"_parent\"><img src=\"https://colab.research.google.com/assets/colab-badge.svg\" alt=\"Open In Colab\"/></a>"
      ]
    },
    {
      "cell_type": "code",
      "metadata": {
        "id": "2FS9I-aN1ARc",
        "colab_type": "code",
        "colab": {
          "base_uri": "https://localhost:8080/",
          "height": 473
        },
        "outputId": "1591b889-5993-42c9-b1a7-394d6658fd54"
      },
      "source": [
        "import numpy as ny\n",
        "import matplotlib.pyplot as mat\n",
        "\n",
        "arr=ny.arange(1,11)\n",
        "print(arr)\n",
        "\n",
        "arr1=ny.random.randn(3,4)\n",
        "print(arr1)\n",
        "subset=arr1[arr1>0]\n",
        "print(subset)\n",
        "\n",
        "# Numpy boolean indexing : &, |, ~ (and,or,not)\n",
        "x=ny.random.randn(5)\n",
        "y=ny.random.randn(5)\n",
        "print(ny.maximum(x,y))\n",
        "print(ny.minimum(x,y))\n",
        "\n",
        "\n",
        "x_pts=ny.arange(-5,5,0.01)\n",
        "y_pts=ny.exp(x_pts)\n",
        "mat.plot(x_pts,y_pts)\n",
        "mat.show()\n",
        "\n",
        "\n",
        "arr2=ny.random.randint(0,10,size=(3,5))\n",
        "print(arr2)"
      ],
      "execution_count": 7,
      "outputs": [
        {
          "output_type": "stream",
          "text": [
            "[ 1  2  3  4  5  6  7  8  9 10]\n",
            "[[ 1.36643201 -1.49244674  1.0960955   0.2685195 ]\n",
            " [-0.70651298 -1.21916918  0.78138597  2.11158157]\n",
            " [ 0.29864924 -0.66660501 -0.45520561  2.32814896]]\n",
            "[1.36643201 1.0960955  0.2685195  0.78138597 2.11158157 0.29864924\n",
            " 2.32814896]\n",
            "[1.71030347 0.99616192 0.36478599 1.07440229 1.23264207]\n",
            "[-0.19040032 -1.51167619 -0.74341403  0.47069587 -0.74135964]\n"
          ],
          "name": "stdout"
        },
        {
          "output_type": "display_data",
          "data": {
            "image/png": "[encoded data removed]",
            "text/plain": [
              "<Figure size 432x288 with 1 Axes>"
            ]
          },
          "metadata": {
            "tags": [],
            "needs_background": "light"
          }
        },
        {
          "output_type": "stream",
          "text": [
            "[[0 9 7 2 3]\n",
            " [0 5 2 4 2]\n",
            " [8 1 9 6 2]]\n"
          ],
          "name": "stdout"
        }
      ]
    }
  ]
}
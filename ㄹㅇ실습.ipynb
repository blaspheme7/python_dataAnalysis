{
  "nbformat": 4,
  "nbformat_minor": 0,
  "metadata": {
    "colab": {
      "name": "ㄹㅇ실습.ipynb",
      "provenance": [],
      "collapsed_sections": [],
      "mount_file_id": "1QMtJwhTDL9cBk2ZPrqLUK2ItVbEoFM0L",
      "authorship_tag": "ABX9TyOlnpvO7oEuNk/rMi0+lcJG",
      "include_colab_link": true
    },
    "kernelspec": {
      "name": "python3",
      "display_name": "Python 3"
    }
  },
  "cells": [
    {
      "cell_type": "markdown",
      "metadata": {
        "id": "view-in-github",
        "colab_type": "text"
      },
      "source": [
        "<a href=\"https://colab.research.google.com/github/blaspheme7/python_dataAnalysis/blob/master/%E3%84%B9%E3%85%87%EC%8B%A4%EC%8A%B5.ipynb\" target=\"_parent\"><img src=\"https://colab.research.google.com/assets/colab-badge.svg\" alt=\"Open In Colab\"/></a>"
      ]
    },
    {
      "cell_type": "code",
      "metadata": {
        "id": "ycA3WWqoHqgN",
        "colab_type": "code",
        "colab": {
          "base_uri": "https://localhost:8080/",
          "height": 284
        },
        "outputId": "4cddc107-dd79-48fa-f822-9e8037460cc3"
      },
      "source": [
        "# google drive 마운트하고 사용할것\n",
        "\n",
        "import numpy as np\n",
        "import pandas as pd\n",
        "import seaborn as sb\n",
        "import matplotlib.pyplot as mp\n",
        "\n",
        "gapminder=pd.read_csv('drive/My Drive/Colab Notebooks/gapminder.tsv',\n",
        "                      sep='\\t')\n",
        "\n",
        "# gapminder.head(n=10) 또는 tail\n",
        "\"\"\"\n",
        "print(gapminder.shape, gapminder.columns, gapminder.index)\n",
        "subset=gapminder[(gapminder['country']=='Korea, Rep.') & (gapminder['year']>=1980)]\n",
        "\n",
        "print(subset[['year','pop']])\n",
        "\"\"\"\n",
        "\"\"\"\n",
        "subset=gapminder[(gapminder['continent']=='Asia') & \n",
        "                 (gapminder['gdpPercap']>20_000)]\n",
        "print(subset)\n",
        "\"\"\"\n",
        "tips=sb.load_dataset('tips')\n",
        "\"\"\"\n",
        "tips.shape\n",
        "mp.hist(x=tips['total_bill'], bins=20)\n",
        "mp.xlabel('Total Bill')\n",
        "mp.ylabel('Number of tables')\n",
        "mp.show\n",
        "\"\"\"\n",
        "\"\"\"\n",
        "mp.scatter(x=tips['total_bill'], y=tips['tip'])\n",
        "mp.show\n",
        "\"\"\"\n",
        "mp.boxplot(x=tips['tip'])\n",
        "mp.show"
      ],
      "execution_count": 34,
      "outputs": [
        {
          "output_type": "execute_result",
          "data": {
            "text/plain": [
              "<function matplotlib.pyplot.show>"
            ]
          },
          "metadata": {
            "tags": []
          },
          "execution_count": 34
        },
        {
          "output_type": "display_data",
          "data": {
            "image/png": "[encoded data removed]",
            "text/plain": [
              "<Figure size 432x288 with 1 Axes>"
            ]
          },
          "metadata": {
            "tags": [],
            "needs_background": "light"
          }
        }
      ]
    }
  ]
}